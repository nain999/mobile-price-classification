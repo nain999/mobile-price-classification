{
 "cells": [
  {
   "cell_type": "code",
   "execution_count": null,
   "metadata": {
    "id": "Jk5uOJpkPVsW"
   },
   "outputs": [],
   "source": [
    "# #mounting drive\n",
    "# from google.colab import drive\n",
    "# drive.mount('/content/drive')"
   ]
  },
  {
   "cell_type": "markdown",
   "metadata": {
    "id": "yCuFeaqEPjsk"
   },
   "source": [
    "Goal:"
   ]
  },
  {
   "cell_type": "markdown",
   "metadata": {
    "id": "vOqnlDG7nM6m"
   },
   "source": [
    "**Phase 1: Strategic Understanding**\n",
    "\n",
    "Mobile price classification dataset holds crucial attributes for predicting mobile price ranges based on mobile features. The mobile phone industry can leverage this classification model to make data-driven decisions, enhance pricing accuracy, market campaigns, and efficient inventory control. The objective of this classification model is to categorize mobile phones into low cost, medium cost, high cost, and very high-cost categories based mobile features like ram, battery power, pixel height., etc. To cater to diverse customers strategic pricing in the mobile industry is required. By data analysis companies can aim at determining phone characteristics contributing towards price segments. Businesses can optimize their pricing strategy and make informed decisions on discounts, promotions, and plan product bundles. This dataset also reveals rising demand for storage space in phones, battery life, and the need for advanced cameras. Insights into feature-based mobile price classification will help the business in understanding customer purchasing motivation. This classification model will also help the customer in making informed decisions about phone purchase."
   ]
  },
  {
   "cell_type": "markdown",
   "metadata": {
    "id": "G2InEdf_ndtx"
   },
   "source": [
    "**Phase 2: Data Collection and Data Insights**\n",
    "\n",
    "The data is sourced from Kaggle in a csv file."
   ]
  },
  {
   "cell_type": "code",
   "execution_count": null,
   "metadata": {
    "colab": {
     "base_uri": "https://localhost:8080/",
     "height": 256
    },
    "id": "m8XKQfH_Kbpb",
    "outputId": "d621af95-c229-4227-9fd4-9ef6fcc5016a"
   },
   "outputs": [],
   "source": [
    "#read csv file\n",
    "import pandas as pd\n",
    "raw_data = pd.read_csv('/content/drive/My Drive/Colab_Notebooks/Mobile_Classification/train.csv')\n",
    "raw_data.head()"
   ]
  },
  {
   "cell_type": "code",
   "execution_count": null,
   "metadata": {
    "colab": {
     "base_uri": "https://localhost:8080/",
     "height": 0
    },
    "id": "-x0DTUSWx0xa",
    "outputId": "8a0f1b57-1b62-40e6-c063-5b11499555e8"
   },
   "outputs": [],
   "source": [
    "print(raw_data['fc'].value_counts())"
   ]
  },
  {
   "cell_type": "code",
   "execution_count": null,
   "metadata": {
    "colab": {
     "base_uri": "https://localhost:8080/",
     "height": 0
    },
    "id": "_mmZzlPiQhE6",
    "outputId": "a92cb149-72af-4195-d857-9fb44ba96274"
   },
   "outputs": [],
   "source": [
    "raw_data.shape"
   ]
  },
  {
   "cell_type": "code",
   "execution_count": null,
   "metadata": {
    "colab": {
     "base_uri": "https://localhost:8080/",
     "height": 0
    },
    "id": "3f9gQen-Qjhp",
    "outputId": "4dc96907-9897-4378-ce15-73afee0cc1b5"
   },
   "outputs": [],
   "source": [
    "raw_data.info()"
   ]
  },
  {
   "cell_type": "code",
   "execution_count": null,
   "metadata": {
    "id": "u2ZTsafiPaz8"
   },
   "outputs": [],
   "source": [
    "#changing some of the column names for better understanding of the data description\n",
    "raw_data.rename(columns={\n",
    "    'blue': 'bluetooth',\n",
    "    'fc': 'frnt_cam',\n",
    "    'm_dep': 'moble_depth',\n",
    "    'pc': 'prmry_cam',\n",
    "    'sc_h': 'scrn_height',\n",
    "    'sc_w': 'scrn_width'\n",
    "}, inplace=True)"
   ]
  },
  {
   "cell_type": "code",
   "execution_count": null,
   "metadata": {
    "colab": {
     "base_uri": "https://localhost:8080/",
     "height": 0
    },
    "id": "on8cnrxURJdP",
    "outputId": "5f1dc9c1-1448-4ad1-b046-dd934f7e67e9"
   },
   "outputs": [],
   "source": [
    "raw_data['price_range'].unique()"
   ]
  },
  {
   "cell_type": "markdown",
   "metadata": {
    "id": "v8RKnB-EQwx0"
   },
   "source": [
    "Price Range is the target variable which is of int data type. Looking at the dataset it is better to convert it to categorical type and categorizing it into low - 0, medium - 1, high - 2 and very high - 3 price range for better model explainability."
   ]
  },
  {
   "cell_type": "code",
   "execution_count": null,
   "metadata": {
    "colab": {
     "base_uri": "https://localhost:8080/",
     "height": 0
    },
    "id": "VFxWhYcvRdNB",
    "outputId": "96c193cc-4dcc-41b4-d1f4-b99b5b5fc0a2"
   },
   "outputs": [],
   "source": [
    "#converting the price range to low, medium, high and very high range\n",
    "price_map = {\n",
    "    1:'Medium Cost',\n",
    "    2:'High Cost',\n",
    "    3:'Very High Cost',\n",
    "    0:'Low Cost'\n",
    "    }\n",
    "\n",
    "raw_data_converted = raw_data.copy()\n",
    "raw_data_converted['price_range'] = raw_data_converted['price_range'].map(price_map)\n",
    "raw_data_converted['price_range'].info()"
   ]
  },
  {
   "cell_type": "code",
   "execution_count": null,
   "metadata": {
    "colab": {
     "base_uri": "https://localhost:8080/",
     "height": 224
    },
    "id": "www1u2o3TNlv",
    "outputId": "1cc3fd60-0fda-4111-c5b2-44914085abed"
   },
   "outputs": [],
   "source": [
    "raw_data_converted.head(4)"
   ]
  },
  {
   "cell_type": "markdown",
   "metadata": {
    "id": "NveOAzxfUYgN"
   },
   "source": [
    "**Data Cleaning**"
   ]
  },
  {
   "cell_type": "markdown",
   "metadata": {
    "id": "JjFZrhopWRKK"
   },
   "source": [
    "**1. There are no missing values in the dataset**"
   ]
  },
  {
   "cell_type": "code",
   "execution_count": null,
   "metadata": {
    "colab": {
     "base_uri": "https://localhost:8080/",
     "height": 0
    },
    "id": "8juKCwvaUImP",
    "outputId": "3de393ed-8a06-4cef-f94f-a4f9a1056077"
   },
   "outputs": [],
   "source": [
    "#looking for any missing values and obtaining only the columns with missing values\n",
    "print(raw_data_converted.isna().any()[raw_data_converted.isna().any()])"
   ]
  },
  {
   "cell_type": "markdown",
   "metadata": {
    "id": "6jNOGJ2OWjtp"
   },
   "source": [
    "**2. There are no duplicate values in the dataset**"
   ]
  },
  {
   "cell_type": "code",
   "execution_count": null,
   "metadata": {
    "colab": {
     "base_uri": "https://localhost:8080/",
     "height": 0
    },
    "id": "DbsmN19HWVFj",
    "outputId": "710e2bf9-988e-4883-85e5-51e2f3e7a4e2"
   },
   "outputs": [],
   "source": [
    "raw_data_converted.duplicated().sum()"
   ]
  },
  {
   "cell_type": "markdown",
   "metadata": {
    "id": "_V15Fa6WXoED"
   },
   "source": [
    "**Class Imbalance**"
   ]
  },
  {
   "cell_type": "markdown",
   "metadata": {
    "id": "JhWd8r-0Xz9g"
   },
   "source": [
    "**Target Class is balanced** - The price range attribute has equally distributed number of records."
   ]
  },
  {
   "cell_type": "code",
   "execution_count": null,
   "metadata": {
    "colab": {
     "base_uri": "https://localhost:8080/",
     "height": 241
    },
    "id": "Be1PhbzYXieQ",
    "outputId": "8392f07f-cce3-488c-ae9b-00fc4bf45a90"
   },
   "outputs": [],
   "source": [
    "raw_data_converted['price_range'].value_counts()"
   ]
  },
  {
   "cell_type": "markdown",
   "metadata": {
    "id": "x5207QtPnsNZ"
   },
   "source": [
    "**Phase 3: Determining and Depicting Outliers:**"
   ]
  },
  {
   "cell_type": "code",
   "execution_count": null,
   "metadata": {
    "colab": {
     "base_uri": "https://localhost:8080/",
     "height": 320
    },
    "id": "ikIO0Zqlffkb",
    "outputId": "bb4f3a19-68ec-400f-dd51-6bcb7fd0354e"
   },
   "outputs": [],
   "source": [
    "raw_data_converted.describe()"
   ]
  },
  {
   "cell_type": "markdown",
   "metadata": {
    "id": "xVkDlJGRjRoM"
   },
   "source": [
    "From data we see that some records have no primary camera but still has pixel resolution height and width. This can be treated as manual error and hence deleting those records.\n",
    "\n",
    "Some records dont have pixel resolution height but still has pixel resolution width which is impractical hence these records can be deleted."
   ]
  },
  {
   "cell_type": "code",
   "execution_count": null,
   "metadata": {
    "colab": {
     "base_uri": "https://localhost:8080/",
     "height": 147
    },
    "id": "I7jTFs9dj7Xf",
    "outputId": "d771e114-d1d4-4075-fa7f-298732f7f889"
   },
   "outputs": [],
   "source": [
    "#There are 101 records with 0 primary camera\n",
    "raw_data_converted[raw_data_converted['prmry_cam'] == 0]['prmry_cam'].value_counts()"
   ]
  },
  {
   "cell_type": "code",
   "execution_count": null,
   "metadata": {
    "colab": {
     "base_uri": "https://localhost:8080/",
     "height": 0
    },
    "id": "s_i4PDqX0Iw5",
    "outputId": "ac6cd9c4-0121-4f5a-bf0b-dc89c26d4388"
   },
   "outputs": [],
   "source": [
    "raw_data_converted[(raw_data_converted['prmry_cam'] == 0) & (raw_data_converted['px_height'] != 0)].value_counts().sum()"
   ]
  },
  {
   "cell_type": "code",
   "execution_count": null,
   "metadata": {
    "colab": {
     "base_uri": "https://localhost:8080/",
     "height": 0
    },
    "id": "gPpzT1W50JvJ",
    "outputId": "41ad50b2-92b4-4739-f29e-d21bf5eb075b"
   },
   "outputs": [],
   "source": [
    "raw_data_converted[(raw_data_converted['prmry_cam'] == 0) & (raw_data_converted['px_width'] != 0)].value_counts().sum()"
   ]
  },
  {
   "cell_type": "code",
   "execution_count": null,
   "metadata": {
    "colab": {
     "base_uri": "https://localhost:8080/",
     "height": 472
    },
    "id": "sRj7lElZwQYT",
    "outputId": "118b5278-66e3-43a3-ce32-ecd20e8dd636"
   },
   "outputs": [],
   "source": [
    "#creating violin plot to visualize distribution of Pixel Height by Camera Megapixel\n",
    "import seaborn as sns\n",
    "import matplotlib.pyplot as plt\n",
    "\n",
    "sns.violinplot(x='prmry_cam', y = 'px_height', data = raw_data_converted, palette='viridis',hue='prmry_cam', legend=False)\n",
    "plt.xlabel('Primary camera mega pixel', fontweight='bold')\n",
    "plt.ylabel('Pixel resolution height', fontweight='bold')\n",
    "plt.title('Distribution of Pixel Height by Camera Megapixel', fontweight='bold')\n",
    "plt.show()"
   ]
  },
  {
   "cell_type": "code",
   "execution_count": null,
   "metadata": {
    "colab": {
     "base_uri": "https://localhost:8080/",
     "height": 472
    },
    "id": "vFrbzEipxehk",
    "outputId": "ef088d1e-9b3c-4b3f-de02-53e96fc5b57c"
   },
   "outputs": [],
   "source": [
    "#creating violin plot to visualize distribution of Pixel width by Camera Megapixel\n",
    "sns.violinplot(x='prmry_cam', y = 'px_width', data = raw_data_converted, palette='viridis',hue='prmry_cam', legend=False)\n",
    "plt.xlabel('Primary camera mega pixel', fontweight='bold')\n",
    "plt.ylabel('Pixel resolution width', fontweight='bold')\n",
    "plt.title('Distribution of Pixel Width by Camera Megapixel', fontweight='bold')\n",
    "plt.show()"
   ]
  },
  {
   "cell_type": "code",
   "execution_count": null,
   "metadata": {
    "colab": {
     "base_uri": "https://localhost:8080/",
     "height": 0
    },
    "id": "1v6Pt9K3yyWq",
    "outputId": "16289f39-5f81-4cc4-c58e-c1cba57615cd"
   },
   "outputs": [],
   "source": [
    "#getting the records which doesn't have 0 primary camera.\n",
    "clean_data = raw_data_converted[~(raw_data_converted['prmry_cam'] == 0)]\n",
    "clean_data.shape"
   ]
  },
  {
   "cell_type": "code",
   "execution_count": null,
   "metadata": {
    "colab": {
     "base_uri": "https://localhost:8080/",
     "height": 472
    },
    "id": "DRcFbhLU0BxS",
    "outputId": "89447e67-49c8-4e33-e88e-00371e20c489"
   },
   "outputs": [],
   "source": [
    "#creating violin plot to understand screen_width and screen_height distribution\n",
    "sns.barplot(x='scrn_width', y= 'scrn_height', data = clean_data, palette = 'viridis', hue='scrn_width', legend=False)\n",
    "plt.xlabel('Screen Width', fontweight='bold')\n",
    "plt.ylabel('Screen Height', fontweight = 'bold')\n",
    "plt.title('Distribution of screen width and height', fontweight='bold')\n",
    "plt.show()"
   ]
  },
  {
   "cell_type": "markdown",
   "metadata": {
    "id": "flM7fuSnLqi7"
   },
   "source": [
    "We have records with 0cm screen width but still have screen height which seems like manual error and hence these records can be deleted."
   ]
  },
  {
   "cell_type": "code",
   "execution_count": null,
   "metadata": {
    "colab": {
     "base_uri": "https://localhost:8080/",
     "height": 0
    },
    "id": "Im7y6y7qkc3w",
    "outputId": "992f8b6a-03a4-463a-e495-25c5c6368dc9"
   },
   "outputs": [],
   "source": [
    "clean_data[(clean_data['scrn_width'] == 0) & (clean_data['scrn_height'] != 0)].value_counts().sum()"
   ]
  },
  {
   "cell_type": "markdown",
   "metadata": {
    "id": "zitfxpAkMU9B"
   },
   "source": [
    "Dropping 167 records with 0 screen width but still having screen height."
   ]
  },
  {
   "cell_type": "code",
   "execution_count": null,
   "metadata": {
    "id": "ihocRrWSMbb0"
   },
   "outputs": [],
   "source": [
    "clean_data = clean_data[~((clean_data['scrn_width'] == 0) & (clean_data['scrn_height'] != 0))]"
   ]
  },
  {
   "cell_type": "code",
   "execution_count": null,
   "metadata": {
    "colab": {
     "base_uri": "https://localhost:8080/",
     "height": 0
    },
    "id": "iTMPyBy9MmFV",
    "outputId": "9ba75f65-9663-4d2f-afe7-a1a6bc48bc26"
   },
   "outputs": [],
   "source": [
    "clean_data.shape"
   ]
  },
  {
   "cell_type": "markdown",
   "metadata": {
    "id": "R9tfpG7-YKnw"
   },
   "source": [
    "**Exploratory Data Analysis**"
   ]
  },
  {
   "cell_type": "markdown",
   "metadata": {
    "id": "uacWkyYFay3k"
   },
   "source": [
    "**Correlation Heatmap**"
   ]
  },
  {
   "cell_type": "code",
   "execution_count": null,
   "metadata": {
    "id": "08hvBFXUauY4"
   },
   "outputs": [],
   "source": [
    "correlation_matrix = raw_data.corr()\n",
    "# plt.figure(figsize=(15,10))\n",
    "# sns.heatmap(correlation_matrix, annot =True, cmap = 'Purples',linewidths = 0.2)\n",
    "# plt.title('Correlation Heatmap', fontweight = 'bold')\n",
    "# plt.show()\n",
    "#Removed plot image from here and added in read.me file as the image was huge in size."
   ]
  },
  {
   "cell_type": "markdown",
   "metadata": {
    "id": "IOiTteW0XsIY"
   },
   "source": [
    "By picturing a correlation heatmap one can effortlessly depict the patterns and relations in the dataset. The correlation Heatmap interpret that the below features have positive correlation, for example as ram_mb increases price_range increases. ​\n",
    "\n",
    "1. ram_mb and target variable price_range. ​\n",
    "\n",
    "2. three_g and four_g ​\n",
    "\n",
    "3. prm_cam_mp and front_cam ​\n",
    "\n",
    "4. px_res_wdt and px_res_ht  ​"
   ]
  },
  {
   "cell_type": "markdown",
   "metadata": {
    "id": "0D_8lE_KrFqo"
   },
   "source": [
    "**Phase 4: Model Design**"
   ]
  },
  {
   "cell_type": "code",
   "execution_count": null,
   "metadata": {
    "id": "9bp0v29gS56j"
   },
   "outputs": [],
   "source": [
    "#splitting the data into train and test\n",
    "from sklearn.model_selection import train_test_split\n",
    "X = clean_data.drop('price_range', axis = 1)\n",
    "y = clean_data['price_range']\n",
    "#splitting the data into 90% train and 10% test\n",
    "X_train, X_test, y_train, y_test = train_test_split(X, y, test_size=0.1, random_state = 1)"
   ]
  },
  {
   "cell_type": "code",
   "execution_count": null,
   "metadata": {
    "colab": {
     "base_uri": "https://localhost:8080/",
     "height": 0
    },
    "id": "dHxUp4q5jNUQ",
    "outputId": "a8491e56-ca55-4783-812e-06acd7bfd49b"
   },
   "outputs": [],
   "source": [
    "#1. Building Support Vector Machines\n",
    "from sklearn.svm import SVC\n",
    "from sklearn.metrics import confusion_matrix, accuracy_score, precision_score, recall_score, f1_score\n",
    "\n",
    "svc_clf = SVC(random_state = 1)\n",
    "svc_clf.fit(X_train, y_train)\n",
    "y_predict = svc_clf.predict(X_test)\n",
    "\n",
    "#Analysing models performance via confusion matrix, accuracy, precision, recall, and F1 score\n",
    "cm_dct = pd.DataFrame(confusion_matrix(y_test, y_predict, labels =['Medium Cost','High Cost', 'Very High Cost', 'Low Cost']),\n",
    "                          index = ['actual Medium', 'actual High', 'actual Very High','actual Low'],\n",
    "                          columns = ['predicted medium','predicted high','predicted very high','predicted low'])\n",
    "print('SVM Confusion Matrix :\\n',cm_dct )\n",
    "print('Accuracy :\\n', accuracy_score(y_test, y_predict))\n",
    "print('Precision : \\n', precision_score(y_test, y_predict, average = 'weighted'))\n",
    "print('Recall : \\n', recall_score(y_test, y_predict,average = 'weighted'))\n",
    "print('F1 Score : \\n', f1_score(y_test, y_predict, average = 'weighted'))\n"
   ]
  },
  {
   "cell_type": "code",
   "execution_count": null,
   "metadata": {
    "colab": {
     "base_uri": "https://localhost:8080/",
     "height": 0
    },
    "id": "nqIdaRTDj1-E",
    "outputId": "ec08a7b4-fa48-40ed-95c1-1cfe6f94d965"
   },
   "outputs": [],
   "source": [
    "#2. Logistic Regression\n",
    "from sklearn.linear_model import LogisticRegression\n",
    "\n",
    "#splitting the data into 90% train and 10% test\n",
    "X_train, X_test, y_train, y_test = train_test_split(X, y, test_size=0.1, random_state = 1)\n",
    "\n",
    "lr_clf = LogisticRegression(random_state = 1)\n",
    "lr_clf.fit(X_test, y_test)\n",
    "y_predict = lr_clf.predict(X_test)\n",
    "\n",
    "#Analysing models performance via confusion matrix, accuracy, precision, recall, and F1 score\n",
    "cm_dct = pd.DataFrame(confusion_matrix(y_test, y_predict, labels =['Medium Cost','High Cost', 'Very High Cost', 'Low Cost']),\n",
    "                          index = ['actual Medium', 'actual High', 'actual Very High','actual Low'],\n",
    "                          columns = ['predicted medium','predicted high','predicted very high','predicted low'])\n",
    "print('Logistic Regression Confusion Matrix :\\n',cm_dct )\n",
    "print('Accuracy :\\n', accuracy_score(y_test, y_predict))\n",
    "print('Precision : \\n', precision_score(y_test, y_predict, average = 'weighted'))\n",
    "print('Recall : \\n', recall_score(y_test, y_predict,average = 'weighted'))\n",
    "print('F1 Score : \\n', f1_score(y_test, y_predict, average = 'weighted'))"
   ]
  },
  {
   "cell_type": "code",
   "execution_count": null,
   "metadata": {
    "colab": {
     "base_uri": "https://localhost:8080/",
     "height": 0
    },
    "id": "aL-ox5RCSsp1",
    "outputId": "2814d8ee-3fae-4571-bc7a-505239610e6d"
   },
   "outputs": [],
   "source": [
    "#3. Decision Tree\n",
    "from sklearn.tree import DecisionTreeClassifier\n",
    "\n",
    "dtc_clf = DecisionTreeClassifier(random_state = 1)\n",
    "dtc_clf.fit(X_train, y_train)\n",
    "y_predict = dtc_clf.predict(X_test)\n",
    "\n",
    "#Analysing models performance via confusion matrix, accuracy, precision, recall, and F1 score\n",
    "cm_dct = pd.DataFrame(confusion_matrix(y_test, y_predict, labels =['Medium Cost','High Cost', 'Very High Cost', 'Low Cost']),\n",
    "                          index = ['actual Medium', 'actual High', 'actual Very High','actual Low'],\n",
    "                          columns = ['predicted medium','predicted high','predicted very high','predicted low'])\n",
    "print('Decision Tree Classifier Confusion Matrix :\\n',cm_dct )\n",
    "print('Accuracy :\\n', accuracy_score(y_test, y_predict))\n",
    "print('Precision : \\n', precision_score(y_test, y_predict, average = 'weighted'))\n",
    "print('Recall : \\n', recall_score(y_test, y_predict,average = 'weighted'))\n",
    "print('F1 Score : \\n', f1_score(y_test, y_predict, average = 'weighted'))"
   ]
  },
  {
   "cell_type": "code",
   "execution_count": null,
   "metadata": {
    "id": "hC1NsB6NWcoC"
   },
   "outputs": [],
   "source": [
    "#decision tree visualization\n",
    "# from sklearn.tree import plot_tree\n",
    "# plt.figure(figsize=(30, 20))\n",
    "# plot_tree(dtc_clf, filled=True, feature_names = X.columns, class_names=['M', 'H', 'VH', 'L'], rounded = True, fontsize=14, max_depth=2)\n",
    "# plt.show()"
   ]
  },
  {
   "cell_type": "code",
   "execution_count": null,
   "metadata": {
    "id": "YD_kTiknerOh"
   },
   "outputs": [],
   "source": [
    "# from sklearn.tree import export_graphviz\n",
    "# import graphviz\n",
    "\n",
    "# # Export tree as dot format\n",
    "# dot_data = export_graphviz(dtc_clf, out_file=None,\n",
    "#                            feature_names=X.columns,\n",
    "#                            class_names=['M', 'H', 'VH', 'L'],\n",
    "#                            filled=True, rounded=True,\n",
    "#                            special_characters=True)\n",
    "\n",
    "# # Visualize using graphviz\n",
    "# graph = graphviz.Source(dot_data)\n",
    "# #graph.render(\"decision_tree\")  # saves as PDF\n",
    "# graph"
   ]
  },
  {
   "cell_type": "markdown",
   "metadata": {
    "id": "jV3ck2gRd4Ek"
   },
   "source": [
    "The interpretability of Decision trees gives clear understanding that the instances with greater ram, battery power, pixel resolution height and width pushes the phone range into High or Very High Cost."
   ]
  },
  {
   "cell_type": "markdown",
   "metadata": {
    "id": "CpUxkDAmcTzM"
   },
   "source": [
    "**Phase 5: Model Analysis, Model Refinement, Model Review, and Model Performance**"
   ]
  },
  {
   "cell_type": "code",
   "execution_count": null,
   "metadata": {
    "colab": {
     "base_uri": "https://localhost:8080/",
     "height": 1000,
     "referenced_widgets": [
      "2c0039c9c2cb43d89b6d62e1c30020b4",
      "a7af9f544ee54e5da225624b22423b1a",
      "7d27b3c2d7c043fb857dc415a72b28ef",
      "8ca7ef2eb0034cb3b6a20dbbf6b1d535",
      "4a113a8057f84eefb846a7977a1bd195",
      "7ff0b2031f19461ea9fd08db874be9af",
      "6db7a2922e3b4bbda65cf22ba0164962",
      "ee36436c124c43ab8ab4859624b85d9f",
      "c344f857953142d786fc1f121833ab2c",
      "ffa2d9e2f5b0403ca21820e6697ce61b",
      "227fb23b3dab461ca65442e465280f36"
     ]
    },
    "id": "F1M5we1Mr5IG",
    "outputId": "ceee1c62-65c9-4773-8a1f-b13511e4bb91"
   },
   "outputs": [],
   "source": [
    "#1. SHAP analysis to get feature importance -  Support Vector Machines\n",
    "import shap\n",
    "\n",
    "#Initializing JS visualization in notebooks\n",
    "shap.initjs()\n",
    "\n",
    "#using kernel explainer\n",
    "#The decision_function is used for multi-class SVC\n",
    "explainer = shap.KernelExplainer(svc_clf.decision_function, shap.kmeans(X_train, 10))\n",
    "shap_values = explainer.shap_values(X_test)\n",
    "\n",
    "#Summary plot (global importance)\n",
    "shap.summary_plot(shap_values, X_test, plot_type=\"bar\")"
   ]
  },
  {
   "cell_type": "markdown",
   "metadata": {
    "id": "mor9elXbjSYK"
   },
   "source": [
    "From SHAP analysis it is evident that the most important features contribuiting towards the prediction of price range are ram, battery_power, px_height, and px_width."
   ]
  },
  {
   "cell_type": "code",
   "execution_count": null,
   "metadata": {
    "colab": {
     "base_uri": "https://localhost:8080/"
    },
    "id": "9GhLnCmRuP2S",
    "outputId": "bcc1bd4a-d4df-4c28-b02a-8bb895a6c203"
   },
   "outputs": [],
   "source": [
    "X = clean_data[['battery_power', 'ram', 'px_height', 'px_width']]\n",
    "X.shape"
   ]
  },
  {
   "cell_type": "code",
   "execution_count": null,
   "metadata": {
    "colab": {
     "base_uri": "https://localhost:8080/"
    },
    "id": "mTaLAa6hjizs",
    "outputId": "442f6ad1-84e0-40ea-b6a2-37433934b461"
   },
   "outputs": [],
   "source": [
    "#Re-building the model considering only the important features from SHAP analysis\n",
    "from sklearn.svm import SVC\n",
    "\n",
    "X = clean_data[['battery_power', 'ram', 'px_height', 'px_width']]\n",
    "y = clean_data['price_range']\n",
    "\n",
    "X_train, X_test, y_train, y_test = train_test_split(X,y, test_size =0.1,random_state =1)\n",
    "\n",
    "svc_model_1 = SVC(random_state = 1)\n",
    "svc_model_1.fit(X_train,y_train)\n",
    "y_predict_svc = svc_model_1.predict(X_test)\n",
    "\n",
    "#analysing the models performance using accuracy, precision, recall, and F1-score\n",
    "from sklearn.metrics import confusion_matrix, accuracy_score, precision_score, recall_score, f1_score\n",
    "\n",
    "cm_svc = pd.DataFrame(confusion_matrix(y_predict_svc, y_test, labels= ['Medium Cost', 'High Cost', 'Very High Cost', 'Low Cost']),\n",
    "                      index = ['actual Medium', 'actual High', 'actual Very High', 'actual Low'],\n",
    "                      columns = ['predicted Medium', 'predicted High', 'predicted Very High', 'predicted Low'])\n",
    "print('Confusion Matrix of Support Vector Machine Model 1:\\n', cm_svc)\n",
    "print('Accuracy Score :\\n', accuracy_score(y_test, y_predict_svc))\n",
    "print('Precision Score :\\n', precision_score(y_test, y_predict_svc, average='weighted'))\n",
    "print('Recall Score :\\n', recall_score(y_test, y_predict_svc, average='weighted'))\n",
    "print('F1 Score :\\n', f1_score(y_test,y_predict_svc, average = 'weighted'))"
   ]
  },
  {
   "cell_type": "markdown",
   "metadata": {
    "id": "ewJXPC6luxzb"
   },
   "source": [
    "Since there is no difference in models performance with all the features and with most important features, we can consider the model 1 for further performance tuning."
   ]
  },
  {
   "cell_type": "code",
   "execution_count": null,
   "metadata": {
    "id": "DuBKXAyEvCTL"
   },
   "outputs": [],
   "source": [
    "#2. Hyper parameter tuning using GridSearchCV\n",
    "from sklearn.model_selection import GridSearchCV\n",
    "from sklearn.model_selection import StratifiedKFold\n",
    "\n",
    "#Lower C = stronger regularization (simpler model), higher C = weaker regularization (less penalty for misclassifications)\n",
    "#gamma controls how far the influence of a single training example reaches:\n",
    "#Low gamma = far influence (smooth decision boundary)\n",
    "#High gamma = close influence (can lead to overfitting)\n",
    "\n",
    "\n",
    "# param_grid = {#regularization parameter\n",
    "#     'C': [0.01, 0.1, 1, 10, 100], 'gamma': ['scale','auto'],'kernel' : ['rbf', 'linear']}\n",
    "\n",
    "# #verbose=1 shows basic progress messages while training.\n",
    "# grid = GridSearchCV(SVC(random_state = 1),param_grid,cv=StratifiedKFold(n_splits=3), scoring = 'accuracy', verbose = 1, n_jobs=-1)\n",
    "# grid.fit(X_train, y_train)\n",
    "\n",
    "# # Best parameters and score\n",
    "# print(\"Best parameters:\", grid.best_params_)\n",
    "# print(\"Best cross-validation score:\", grid.best_score_)\n",
    "\n",
    "# # Predict on test data\n",
    "# y_pred_test = grid.predict(X_test)"
   ]
  }
 ],
 "metadata": {
  "colab": {
   "provenance": []
  },
  "kernelspec": {
   "display_name": "Python 3",
   "name": "python3"
  },
  "language_info": {
   "name": "python"
  },
  "widgets": {
   "application/vnd.jupyter.widget-state+json": {
    "227fb23b3dab461ca65442e465280f36": {
     "model_module": "@jupyter-widgets/controls",
     "model_module_version": "1.5.0",
     "model_name": "DescriptionStyleModel",
     "state": {
      "_model_module": "@jupyter-widgets/controls",
      "_model_module_version": "1.5.0",
      "_model_name": "DescriptionStyleModel",
      "_view_count": null,
      "_view_module": "@jupyter-widgets/base",
      "_view_module_version": "1.2.0",
      "_view_name": "StyleView",
      "description_width": ""
     }
    },
    "2c0039c9c2cb43d89b6d62e1c30020b4": {
     "model_module": "@jupyter-widgets/controls",
     "model_module_version": "1.5.0",
     "model_name": "HBoxModel",
     "state": {
      "_dom_classes": [],
      "_model_module": "@jupyter-widgets/controls",
      "_model_module_version": "1.5.0",
      "_model_name": "HBoxModel",
      "_view_count": null,
      "_view_module": "@jupyter-widgets/controls",
      "_view_module_version": "1.5.0",
      "_view_name": "HBoxView",
      "box_style": "",
      "children": [
       "IPY_MODEL_a7af9f544ee54e5da225624b22423b1a",
       "IPY_MODEL_7d27b3c2d7c043fb857dc415a72b28ef",
       "IPY_MODEL_8ca7ef2eb0034cb3b6a20dbbf6b1d535"
      ],
      "layout": "IPY_MODEL_4a113a8057f84eefb846a7977a1bd195"
     }
    },
    "4a113a8057f84eefb846a7977a1bd195": {
     "model_module": "@jupyter-widgets/base",
     "model_module_version": "1.2.0",
     "model_name": "LayoutModel",
     "state": {
      "_model_module": "@jupyter-widgets/base",
      "_model_module_version": "1.2.0",
      "_model_name": "LayoutModel",
      "_view_count": null,
      "_view_module": "@jupyter-widgets/base",
      "_view_module_version": "1.2.0",
      "_view_name": "LayoutView",
      "align_content": null,
      "align_items": null,
      "align_self": null,
      "border": null,
      "bottom": null,
      "display": null,
      "flex": null,
      "flex_flow": null,
      "grid_area": null,
      "grid_auto_columns": null,
      "grid_auto_flow": null,
      "grid_auto_rows": null,
      "grid_column": null,
      "grid_gap": null,
      "grid_row": null,
      "grid_template_areas": null,
      "grid_template_columns": null,
      "grid_template_rows": null,
      "height": null,
      "justify_content": null,
      "justify_items": null,
      "left": null,
      "margin": null,
      "max_height": null,
      "max_width": null,
      "min_height": null,
      "min_width": null,
      "object_fit": null,
      "object_position": null,
      "order": null,
      "overflow": null,
      "overflow_x": null,
      "overflow_y": null,
      "padding": null,
      "right": null,
      "top": null,
      "visibility": null,
      "width": null
     }
    },
    "6db7a2922e3b4bbda65cf22ba0164962": {
     "model_module": "@jupyter-widgets/controls",
     "model_module_version": "1.5.0",
     "model_name": "DescriptionStyleModel",
     "state": {
      "_model_module": "@jupyter-widgets/controls",
      "_model_module_version": "1.5.0",
      "_model_name": "DescriptionStyleModel",
      "_view_count": null,
      "_view_module": "@jupyter-widgets/base",
      "_view_module_version": "1.2.0",
      "_view_name": "StyleView",
      "description_width": ""
     }
    },
    "7d27b3c2d7c043fb857dc415a72b28ef": {
     "model_module": "@jupyter-widgets/controls",
     "model_module_version": "1.5.0",
     "model_name": "FloatProgressModel",
     "state": {
      "_dom_classes": [],
      "_model_module": "@jupyter-widgets/controls",
      "_model_module_version": "1.5.0",
      "_model_name": "FloatProgressModel",
      "_view_count": null,
      "_view_module": "@jupyter-widgets/controls",
      "_view_module_version": "1.5.0",
      "_view_name": "ProgressView",
      "bar_style": "success",
      "description": "",
      "description_tooltip": null,
      "layout": "IPY_MODEL_ee36436c124c43ab8ab4859624b85d9f",
      "max": 174,
      "min": 0,
      "orientation": "horizontal",
      "style": "IPY_MODEL_c344f857953142d786fc1f121833ab2c",
      "value": 174
     }
    },
    "7ff0b2031f19461ea9fd08db874be9af": {
     "model_module": "@jupyter-widgets/base",
     "model_module_version": "1.2.0",
     "model_name": "LayoutModel",
     "state": {
      "_model_module": "@jupyter-widgets/base",
      "_model_module_version": "1.2.0",
      "_model_name": "LayoutModel",
      "_view_count": null,
      "_view_module": "@jupyter-widgets/base",
      "_view_module_version": "1.2.0",
      "_view_name": "LayoutView",
      "align_content": null,
      "align_items": null,
      "align_self": null,
      "border": null,
      "bottom": null,
      "display": null,
      "flex": null,
      "flex_flow": null,
      "grid_area": null,
      "grid_auto_columns": null,
      "grid_auto_flow": null,
      "grid_auto_rows": null,
      "grid_column": null,
      "grid_gap": null,
      "grid_row": null,
      "grid_template_areas": null,
      "grid_template_columns": null,
      "grid_template_rows": null,
      "height": null,
      "justify_content": null,
      "justify_items": null,
      "left": null,
      "margin": null,
      "max_height": null,
      "max_width": null,
      "min_height": null,
      "min_width": null,
      "object_fit": null,
      "object_position": null,
      "order": null,
      "overflow": null,
      "overflow_x": null,
      "overflow_y": null,
      "padding": null,
      "right": null,
      "top": null,
      "visibility": null,
      "width": null
     }
    },
    "8ca7ef2eb0034cb3b6a20dbbf6b1d535": {
     "model_module": "@jupyter-widgets/controls",
     "model_module_version": "1.5.0",
     "model_name": "HTMLModel",
     "state": {
      "_dom_classes": [],
      "_model_module": "@jupyter-widgets/controls",
      "_model_module_version": "1.5.0",
      "_model_name": "HTMLModel",
      "_view_count": null,
      "_view_module": "@jupyter-widgets/controls",
      "_view_module_version": "1.5.0",
      "_view_name": "HTMLView",
      "description": "",
      "description_tooltip": null,
      "layout": "IPY_MODEL_ffa2d9e2f5b0403ca21820e6697ce61b",
      "placeholder": "​",
      "style": "IPY_MODEL_227fb23b3dab461ca65442e465280f36",
      "value": " 174/174 [03:11&lt;00:00,  1.20s/it]"
     }
    },
    "a7af9f544ee54e5da225624b22423b1a": {
     "model_module": "@jupyter-widgets/controls",
     "model_module_version": "1.5.0",
     "model_name": "HTMLModel",
     "state": {
      "_dom_classes": [],
      "_model_module": "@jupyter-widgets/controls",
      "_model_module_version": "1.5.0",
      "_model_name": "HTMLModel",
      "_view_count": null,
      "_view_module": "@jupyter-widgets/controls",
      "_view_module_version": "1.5.0",
      "_view_name": "HTMLView",
      "description": "",
      "description_tooltip": null,
      "layout": "IPY_MODEL_7ff0b2031f19461ea9fd08db874be9af",
      "placeholder": "​",
      "style": "IPY_MODEL_6db7a2922e3b4bbda65cf22ba0164962",
      "value": "100%"
     }
    },
    "c344f857953142d786fc1f121833ab2c": {
     "model_module": "@jupyter-widgets/controls",
     "model_module_version": "1.5.0",
     "model_name": "ProgressStyleModel",
     "state": {
      "_model_module": "@jupyter-widgets/controls",
      "_model_module_version": "1.5.0",
      "_model_name": "ProgressStyleModel",
      "_view_count": null,
      "_view_module": "@jupyter-widgets/base",
      "_view_module_version": "1.2.0",
      "_view_name": "StyleView",
      "bar_color": null,
      "description_width": ""
     }
    },
    "ee36436c124c43ab8ab4859624b85d9f": {
     "model_module": "@jupyter-widgets/base",
     "model_module_version": "1.2.0",
     "model_name": "LayoutModel",
     "state": {
      "_model_module": "@jupyter-widgets/base",
      "_model_module_version": "1.2.0",
      "_model_name": "LayoutModel",
      "_view_count": null,
      "_view_module": "@jupyter-widgets/base",
      "_view_module_version": "1.2.0",
      "_view_name": "LayoutView",
      "align_content": null,
      "align_items": null,
      "align_self": null,
      "border": null,
      "bottom": null,
      "display": null,
      "flex": null,
      "flex_flow": null,
      "grid_area": null,
      "grid_auto_columns": null,
      "grid_auto_flow": null,
      "grid_auto_rows": null,
      "grid_column": null,
      "grid_gap": null,
      "grid_row": null,
      "grid_template_areas": null,
      "grid_template_columns": null,
      "grid_template_rows": null,
      "height": null,
      "justify_content": null,
      "justify_items": null,
      "left": null,
      "margin": null,
      "max_height": null,
      "max_width": null,
      "min_height": null,
      "min_width": null,
      "object_fit": null,
      "object_position": null,
      "order": null,
      "overflow": null,
      "overflow_x": null,
      "overflow_y": null,
      "padding": null,
      "right": null,
      "top": null,
      "visibility": null,
      "width": null
     }
    },
    "ffa2d9e2f5b0403ca21820e6697ce61b": {
     "model_module": "@jupyter-widgets/base",
     "model_module_version": "1.2.0",
     "model_name": "LayoutModel",
     "state": {
      "_model_module": "@jupyter-widgets/base",
      "_model_module_version": "1.2.0",
      "_model_name": "LayoutModel",
      "_view_count": null,
      "_view_module": "@jupyter-widgets/base",
      "_view_module_version": "1.2.0",
      "_view_name": "LayoutView",
      "align_content": null,
      "align_items": null,
      "align_self": null,
      "border": null,
      "bottom": null,
      "display": null,
      "flex": null,
      "flex_flow": null,
      "grid_area": null,
      "grid_auto_columns": null,
      "grid_auto_flow": null,
      "grid_auto_rows": null,
      "grid_column": null,
      "grid_gap": null,
      "grid_row": null,
      "grid_template_areas": null,
      "grid_template_columns": null,
      "grid_template_rows": null,
      "height": null,
      "justify_content": null,
      "justify_items": null,
      "left": null,
      "margin": null,
      "max_height": null,
      "max_width": null,
      "min_height": null,
      "min_width": null,
      "object_fit": null,
      "object_position": null,
      "order": null,
      "overflow": null,
      "overflow_x": null,
      "overflow_y": null,
      "padding": null,
      "right": null,
      "top": null,
      "visibility": null,
      "width": null
     }
    }
   }
  }
 },
 "nbformat": 4,
 "nbformat_minor": 0
}
